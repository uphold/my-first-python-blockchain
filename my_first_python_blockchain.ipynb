{
 "cells": [
  {
   "cell_type": "markdown",
   "id": "df5375b8-85d5-4e09-a0ab-ac8920da984f",
   "metadata": {},
   "source": [
    "# My First Python Blockchain"
   ]
  },
  {
   "cell_type": "code",
   "execution_count": 1,
   "id": "5d53fe45-4037-4040-84c9-cc712abf2214",
   "metadata": {},
   "outputs": [],
   "source": [
    "import hashlib # for all our encription needs\n",
    "import json # for formatting our blocks from and to Python objects\n",
    "from time import time # deal with timestamps"
   ]
  },
  {
   "cell_type": "markdown",
   "id": "400e0780-3687-471b-821d-9daa0f07c580",
   "metadata": {},
   "source": [
    "Blockchain class"
   ]
  },
  {
   "cell_type": "code",
   "execution_count": 2,
   "id": "251077bb-85b0-482e-b30a-085c7a70fe93",
   "metadata": {},
   "outputs": [],
   "source": [
    "class Blockchain(object):\n",
    "    \n",
    "    def __init__(self):\n",
    "        self.chain = [] # the BLOCKCHAIN!!!\n",
    "        self.pending_transactions = [] # waiting queue\n",
    "        \n",
    "        self.new_block(\n",
    "            previous_hash=\"The Times 03/Jan/2009 Chancellor on brink of second bailout for banks.\",\n",
    "            proof=100\n",
    "        ) # Satoshi's message from Bitcoin genesis block\n",
    "        \n",
    "    \n",
    "    @property\n",
    "    def last_block(self):\n",
    "        return self.chain[-1]\n",
    "        \n",
    "        \n",
    "    def new_block(self, proof, previous_hash=None):\n",
    "        block = {\n",
    "            'index': len(self.chain) + 1,\n",
    "            'timestamp': time(),\n",
    "            'transactions': self.pending_transactions,\n",
    "            'proof': proof, # valid nonce?\n",
    "            'previous_hash': previous_hash or self.hash(self.last_block),\n",
    "        }\n",
    "        self.pending_transactions = []\n",
    "        self.chain.append(block)\n",
    "        \n",
    "        return block\n",
    "    \n",
    "    \n",
    "    def new_transaction(self, sender, recipient, amount):\n",
    "        transaction = {\n",
    "            'sender': sender,\n",
    "            'recipient': recipient,\n",
    "            'amount': amount\n",
    "        }\n",
    "        self.pending_transactions.append(transaction)\n",
    "        return self.last_block['index'] + 1 # block index where the transaction will be added to\n",
    "    \n",
    "    \n",
    "    def hash(self, block):\n",
    "        string_object = json.dumps(block, sort_keys=True)\n",
    "        block_string = string_object.encode()\n",
    "        raw_hash = hashlib.sha256(block_string) # 64-character long encripted string\n",
    "        hex_hash = raw_hash.hexdigest()\n",
    "        \n",
    "        return hex_hash"
   ]
  },
  {
   "cell_type": "code",
   "execution_count": 3,
   "id": "97a1027d-bd5e-42da-ae3e-48048c5d6481",
   "metadata": {},
   "outputs": [],
   "source": [
    "blockchain = Blockchain()"
   ]
  },
  {
   "cell_type": "code",
   "execution_count": 5,
   "id": "c8adb102-f75c-49a2-813f-dca5df2cd313",
   "metadata": {},
   "outputs": [],
   "source": [
    "t1 = blockchain.new_transaction(\"Satoshi\", \"Mike\", '5 BTC')"
   ]
  },
  {
   "cell_type": "code",
   "execution_count": 6,
   "id": "de5362e5-dbfd-4378-81a3-72ce643bad61",
   "metadata": {},
   "outputs": [],
   "source": [
    "t2 = blockchain.new_transaction(\"Mike\", \"Satoshi\", '1 BTC')"
   ]
  },
  {
   "cell_type": "code",
   "execution_count": 7,
   "id": "9b2e26cb-0cd9-413a-8f84-68ef80f75bc2",
   "metadata": {},
   "outputs": [],
   "source": [
    "t3 = blockchain.new_transaction(\"Satoshi\", \"Hal Finney\", '5 BTC')"
   ]
  },
  {
   "cell_type": "code",
   "execution_count": 8,
   "id": "745368da-71d5-460c-80af-69227d6a2591",
   "metadata": {},
   "outputs": [
    {
     "data": {
      "text/plain": [
       "{'index': 2,\n",
       " 'timestamp': 1650557036.218189,\n",
       " 'transactions': [{'sender': 'Satoshi',\n",
       "   'recipient': 'Mike',\n",
       "   'amount': '5 BTC'},\n",
       "  {'sender': 'Mike', 'recipient': 'Satoshi', 'amount': '1 BTC'},\n",
       "  {'sender': 'Satoshi', 'recipient': 'Hal Finney', 'amount': '5 BTC'}],\n",
       " 'proof': 12345,\n",
       " 'previous_hash': '58ea561b7c03fb6a1bc936331a0eea56559115bea08467acfed69a36c5b62687'}"
      ]
     },
     "execution_count": 8,
     "metadata": {},
     "output_type": "execute_result"
    }
   ],
   "source": [
    "blockchain.new_block(12345)"
   ]
  },
  {
   "cell_type": "code",
   "execution_count": 9,
   "id": "e18535c5-d1fb-4f9d-b662-e6ebbfb39b85",
   "metadata": {},
   "outputs": [],
   "source": [
    "t4 = blockchain.new_transaction(\"Mike\", \"Alice\", '1 BTC')"
   ]
  },
  {
   "cell_type": "code",
   "execution_count": 10,
   "id": "ff1438ed-c1df-4cd2-8ade-e8c29dc66bb4",
   "metadata": {},
   "outputs": [],
   "source": [
    "t5 = blockchain.new_transaction(\"Alice\", \"Bob\", '0.5 BTC')"
   ]
  },
  {
   "cell_type": "code",
   "execution_count": 11,
   "id": "15d83fc0-717c-4cce-a116-c6bfd825f9ee",
   "metadata": {},
   "outputs": [],
   "source": [
    "t6 = blockchain.new_transaction(\"Bob\", \"Mike\", '0.5 BTC')"
   ]
  },
  {
   "cell_type": "code",
   "execution_count": 12,
   "id": "213901a2-b56f-43c2-8d2a-4c5464d8dda1",
   "metadata": {},
   "outputs": [
    {
     "data": {
      "text/plain": [
       "{'index': 3,\n",
       " 'timestamp': 1650557070.622335,\n",
       " 'transactions': [{'sender': 'Mike', 'recipient': 'Alice', 'amount': '1 BTC'},\n",
       "  {'sender': 'Alice', 'recipient': 'Bob', 'amount': '0.5 BTC'},\n",
       "  {'sender': 'Bob', 'recipient': 'Mike', 'amount': '0.5 BTC'}],\n",
       " 'proof': 6789,\n",
       " 'previous_hash': '7a215811c71677c8b40402eec5e3d435c6c61a7090a9d2c533e9f03569e3cae1'}"
      ]
     },
     "execution_count": 12,
     "metadata": {},
     "output_type": "execute_result"
    }
   ],
   "source": [
    "blockchain.new_block(6789)"
   ]
  },
  {
   "cell_type": "code",
   "execution_count": 13,
   "id": "d0689976-05ba-4d18-96f2-acdff19219f3",
   "metadata": {},
   "outputs": [
    {
     "name": "stdout",
     "output_type": "stream",
     "text": [
      "Blockchain:\n",
      "[\n",
      "    {\n",
      "        \"index\": 1,\n",
      "        \"previous_hash\": \"The Times 03/Jan/2009 Chancellor on brink of second bailout for banks.\",\n",
      "        \"proof\": 100,\n",
      "        \"timestamp\": 1650557000.345881,\n",
      "        \"transactions\": []\n",
      "    },\n",
      "    {\n",
      "        \"index\": 2,\n",
      "        \"previous_hash\": \"58ea561b7c03fb6a1bc936331a0eea56559115bea08467acfed69a36c5b62687\",\n",
      "        \"proof\": 12345,\n",
      "        \"timestamp\": 1650557036.218189,\n",
      "        \"transactions\": [\n",
      "            {\n",
      "                \"amount\": \"5 BTC\",\n",
      "                \"recipient\": \"Mike\",\n",
      "                \"sender\": \"Satoshi\"\n",
      "            },\n",
      "            {\n",
      "                \"amount\": \"1 BTC\",\n",
      "                \"recipient\": \"Satoshi\",\n",
      "                \"sender\": \"Mike\"\n",
      "            },\n",
      "            {\n",
      "                \"amount\": \"5 BTC\",\n",
      "                \"recipient\": \"Hal Finney\",\n",
      "                \"sender\": \"Satoshi\"\n",
      "            }\n",
      "        ]\n",
      "    },\n",
      "    {\n",
      "        \"index\": 3,\n",
      "        \"previous_hash\": \"7a215811c71677c8b40402eec5e3d435c6c61a7090a9d2c533e9f03569e3cae1\",\n",
      "        \"proof\": 6789,\n",
      "        \"timestamp\": 1650557070.622335,\n",
      "        \"transactions\": [\n",
      "            {\n",
      "                \"amount\": \"1 BTC\",\n",
      "                \"recipient\": \"Alice\",\n",
      "                \"sender\": \"Mike\"\n",
      "            },\n",
      "            {\n",
      "                \"amount\": \"0.5 BTC\",\n",
      "                \"recipient\": \"Bob\",\n",
      "                \"sender\": \"Alice\"\n",
      "            },\n",
      "            {\n",
      "                \"amount\": \"0.5 BTC\",\n",
      "                \"recipient\": \"Mike\",\n",
      "                \"sender\": \"Bob\"\n",
      "            }\n",
      "        ]\n",
      "    }\n",
      "]\n"
     ]
    }
   ],
   "source": [
    "print(\"Blockchain:\")\n",
    "print(json.dumps(blockchain.chain, indent=4, sort_keys=True))"
   ]
  },
  {
   "cell_type": "code",
   "execution_count": null,
   "id": "57a3d35e-b92f-4dcd-8fdc-1419a9b6d2f9",
   "metadata": {},
   "outputs": [],
   "source": []
  }
 ],
 "metadata": {
  "kernelspec": {
   "display_name": "Python 3 (ipykernel)",
   "language": "python",
   "name": "python3"
  },
  "language_info": {
   "codemirror_mode": {
    "name": "ipython",
    "version": 3
   },
   "file_extension": ".py",
   "mimetype": "text/x-python",
   "name": "python",
   "nbconvert_exporter": "python",
   "pygments_lexer": "ipython3",
   "version": "3.9.12"
  }
 },
 "nbformat": 4,
 "nbformat_minor": 5
}
