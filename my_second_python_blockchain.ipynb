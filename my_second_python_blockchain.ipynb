{
 "cells": [
  {
   "cell_type": "markdown",
   "id": "df5375b8-85d5-4e09-a0ab-ac8920da984f",
   "metadata": {},
   "source": [
    "# My Second Python Blockchain"
   ]
  },
  {
   "cell_type": "code",
   "execution_count": 1,
   "id": "5d53fe45-4037-4040-84c9-cc712abf2214",
   "metadata": {},
   "outputs": [],
   "source": [
    "import hashlib # for all our encription needs\n",
    "import json # for formatting our blocks from and to Python objects\n",
    "from time import time # deal with timestamps"
   ]
  },
  {
   "cell_type": "markdown",
   "id": "400e0780-3687-471b-821d-9daa0f07c580",
   "metadata": {},
   "source": [
    "Blockchain class"
   ]
  },
  {
   "cell_type": "code",
   "execution_count": 2,
   "id": "251077bb-85b0-482e-b30a-085c7a70fe93",
   "metadata": {},
   "outputs": [],
   "source": [
    "class Blockchain(object):\n",
    "    \n",
    "    def __init__(self):\n",
    "        self.chain = [] # the BLOCKCHAIN!!!\n",
    "        self.pending_transactions = [] # waiting queue\n",
    "        self.difficulty = 5\n",
    "        \n",
    "        self.new_block(\n",
    "            previous_hash=\"The Times 03/Jan/2009 Chancellor on brink of second bailout for banks.\",\n",
    "            proof=100\n",
    "        ) # Satoshi's message from Bitcoin genesis block\n",
    "        \n",
    "    \n",
    "    @property\n",
    "    def last_block(self):\n",
    "        return self.chain[-1]\n",
    "        \n",
    "        \n",
    "    def new_block(self, proof, previous_hash=None):\n",
    "        block = {\n",
    "            'index': len(self.chain) + 1,\n",
    "            'timestamp': time(),\n",
    "            'transactions': self.pending_transactions,\n",
    "            'proof': proof, # valid nonce?\n",
    "            'previous_hash': previous_hash or self.hash(self.last_block),\n",
    "        }\n",
    "        self.pending_transactions = []\n",
    "        self.chain.append(block)\n",
    "        \n",
    "        return block\n",
    "    \n",
    "    \n",
    "    def new_transaction(self, sender, recipient, amount):\n",
    "        transaction = {\n",
    "            'sender': sender,\n",
    "            'recipient': recipient,\n",
    "            'amount': amount\n",
    "        }\n",
    "        self.pending_transactions.append(transaction)\n",
    "        return self.last_block['index'] + 1 # block index where the transaction will be added to\n",
    "    \n",
    "    \n",
    "    def hash(self, block):\n",
    "        string_object = json.dumps(block, sort_keys=True)\n",
    "        block_string = string_object.encode()\n",
    "        raw_hash = hashlib.sha256(block_string) # 64-character long encripted string\n",
    "        hex_hash = raw_hash.hexdigest()\n",
    "        \n",
    "        return hex_hash\n",
    "    \n",
    "    \n",
    "    def proof_of_work(self, previous_proof):\n",
    "        new_proof = 1\n",
    "        check_proof = False\n",
    "        \n",
    "        while check_proof is False:\n",
    "            proof_string = str(new_proof**2 - previous_proof**2).encode()\n",
    "            raw_hash = hashlib.sha256(proof_string)\n",
    "            hex_hash = raw_hash.hexdigest()\n",
    "            \n",
    "            if hex_hash[:self.difficulty] == '0' * self.difficulty:\n",
    "                check_proof = True\n",
    "            else:\n",
    "                new_proof += 1\n",
    "        \n",
    "        return new_proof\n",
    "    \n",
    "    \n",
    "    def is_chain_valid(self, chain):\n",
    "        previous_block = chain[0]\n",
    "        block_index = 1\n",
    "        \n",
    "        while block_index < len(chain):\n",
    "            block = chain[block_index]\n",
    "            if block['previous_hash'] != self.hash(previous_block):\n",
    "                return False\n",
    "            \n",
    "            previous_proof = previous_block['proof']\n",
    "            proof = block['proof']\n",
    "            \n",
    "            proof_string = str(proof**2 - previous_proof**2).encode()\n",
    "            raw_hash = hashlib.sha256(proof_string)\n",
    "            hex_hash = raw_hash.hexdigest()\n",
    "            \n",
    "            if hex_hash[:self.difficulty] != '0' * self.difficulty:\n",
    "                return False\n",
    "            previous_block = block\n",
    "            block_index += 1\n",
    "        \n",
    "        return True\n",
    "    \n",
    "    \n",
    "    def mine_block(self):\n",
    "        previous_block = self.last_block\n",
    "        previous_proof = previous_block['proof']\n",
    "        proof = blockchain.proof_of_work(previous_proof)\n",
    "        previous_hash = blockchain.hash(previous_block)\n",
    "        block = blockchain.new_block(proof, previous_hash)\n",
    "        \n",
    "        response = { # sick brag, bro\n",
    "            'message': 'A block is MINED',\n",
    "            'index': block['index'],\n",
    "            'timestamp': block['timestamp'],\n",
    "            'proof': block['proof'],\n",
    "            'previous_hash': block['previous_hash']\n",
    "        }\n",
    "        \n",
    "        return response"
   ]
  },
  {
   "cell_type": "code",
   "execution_count": 3,
   "id": "97a1027d-bd5e-42da-ae3e-48048c5d6481",
   "metadata": {},
   "outputs": [],
   "source": [
    "blockchain = Blockchain()"
   ]
  },
  {
   "cell_type": "code",
   "execution_count": 4,
   "id": "5676201c-02d0-43ce-8ff7-fe31641a4b4a",
   "metadata": {},
   "outputs": [
    {
     "data": {
      "text/plain": [
       "True"
      ]
     },
     "execution_count": 4,
     "metadata": {},
     "output_type": "execute_result"
    }
   ],
   "source": [
    "blockchain.is_chain_valid(blockchain.chain)"
   ]
  },
  {
   "cell_type": "code",
   "execution_count": 5,
   "id": "c8adb102-f75c-49a2-813f-dca5df2cd313",
   "metadata": {},
   "outputs": [],
   "source": [
    "t1 = blockchain.new_transaction(\"Satoshi\", \"Mike\", '5 BTC')"
   ]
  },
  {
   "cell_type": "code",
   "execution_count": 6,
   "id": "de5362e5-dbfd-4378-81a3-72ce643bad61",
   "metadata": {},
   "outputs": [],
   "source": [
    "t2 = blockchain.new_transaction(\"Mike\", \"Satoshi\", '1 BTC')"
   ]
  },
  {
   "cell_type": "code",
   "execution_count": 7,
   "id": "9b2e26cb-0cd9-413a-8f84-68ef80f75bc2",
   "metadata": {},
   "outputs": [],
   "source": [
    "t3 = blockchain.new_transaction(\"Satoshi\", \"Hal Finney\", '5 BTC')"
   ]
  },
  {
   "cell_type": "code",
   "execution_count": 8,
   "id": "745368da-71d5-460c-80af-69227d6a2591",
   "metadata": {},
   "outputs": [
    {
     "data": {
      "text/plain": [
       "{'message': 'A block is MINED',\n",
       " 'index': 2,\n",
       " 'timestamp': 1650370326.576031,\n",
       " 'proof': 147343,\n",
       " 'previous_hash': '3bc4e152871cec7ea5c181153c90170ff0d730a762d363b7b3dabf297ad0e082'}"
      ]
     },
     "execution_count": 8,
     "metadata": {},
     "output_type": "execute_result"
    }
   ],
   "source": [
    "blockchain.mine_block()"
   ]
  },
  {
   "cell_type": "code",
   "execution_count": 9,
   "id": "b123b950-90bb-4e4e-b126-b0f19e58800c",
   "metadata": {},
   "outputs": [
    {
     "data": {
      "text/plain": [
       "True"
      ]
     },
     "execution_count": 9,
     "metadata": {},
     "output_type": "execute_result"
    }
   ],
   "source": [
    "blockchain.is_chain_valid(blockchain.chain)"
   ]
  },
  {
   "cell_type": "code",
   "execution_count": 10,
   "id": "e18535c5-d1fb-4f9d-b662-e6ebbfb39b85",
   "metadata": {},
   "outputs": [],
   "source": [
    "t4 = blockchain.new_transaction(\"Mike\", \"Alice\", '1 BTC')"
   ]
  },
  {
   "cell_type": "code",
   "execution_count": 11,
   "id": "ff1438ed-c1df-4cd2-8ade-e8c29dc66bb4",
   "metadata": {},
   "outputs": [],
   "source": [
    "t5 = blockchain.new_transaction(\"Alice\", \"Bob\", '0.5 BTC')"
   ]
  },
  {
   "cell_type": "code",
   "execution_count": 12,
   "id": "15d83fc0-717c-4cce-a116-c6bfd825f9ee",
   "metadata": {},
   "outputs": [],
   "source": [
    "t6 = blockchain.new_transaction(\"Bob\", \"Mike\", '0.5 BTC')"
   ]
  },
  {
   "cell_type": "code",
   "execution_count": 13,
   "id": "213901a2-b56f-43c2-8d2a-4c5464d8dda1",
   "metadata": {},
   "outputs": [
    {
     "data": {
      "text/plain": [
       "{'message': 'A block is MINED',\n",
       " 'index': 3,\n",
       " 'timestamp': 1650370327.377447,\n",
       " 'proof': 408523,\n",
       " 'previous_hash': 'f01550990ab770e7491f3bb92764cb75f7129ffdf308eae8bd88389d8a1c9e02'}"
      ]
     },
     "execution_count": 13,
     "metadata": {},
     "output_type": "execute_result"
    }
   ],
   "source": [
    "blockchain.mine_block()"
   ]
  },
  {
   "cell_type": "code",
   "execution_count": 14,
   "id": "9ba83e85-6198-4bac-99ff-efef1316a4c9",
   "metadata": {},
   "outputs": [
    {
     "data": {
      "text/plain": [
       "True"
      ]
     },
     "execution_count": 14,
     "metadata": {},
     "output_type": "execute_result"
    }
   ],
   "source": [
    "blockchain.is_chain_valid(blockchain.chain)"
   ]
  },
  {
   "cell_type": "code",
   "execution_count": 15,
   "id": "d0689976-05ba-4d18-96f2-acdff19219f3",
   "metadata": {},
   "outputs": [
    {
     "name": "stdout",
     "output_type": "stream",
     "text": [
      "Blockchain:\n",
      "[\n",
      "    {\n",
      "        \"index\": 1,\n",
      "        \"previous_hash\": \"The Times 03/Jan/2009 Chancellor on brink of second bailout for banks.\",\n",
      "        \"proof\": 100,\n",
      "        \"timestamp\": 1650370326.2277272,\n",
      "        \"transactions\": []\n",
      "    },\n",
      "    {\n",
      "        \"index\": 2,\n",
      "        \"previous_hash\": \"3bc4e152871cec7ea5c181153c90170ff0d730a762d363b7b3dabf297ad0e082\",\n",
      "        \"proof\": 147343,\n",
      "        \"timestamp\": 1650370326.576031,\n",
      "        \"transactions\": [\n",
      "            {\n",
      "                \"amount\": \"5 BTC\",\n",
      "                \"recipient\": \"Mike\",\n",
      "                \"sender\": \"Satoshi\"\n",
      "            },\n",
      "            {\n",
      "                \"amount\": \"1 BTC\",\n",
      "                \"recipient\": \"Satoshi\",\n",
      "                \"sender\": \"Mike\"\n",
      "            },\n",
      "            {\n",
      "                \"amount\": \"5 BTC\",\n",
      "                \"recipient\": \"Hal Finney\",\n",
      "                \"sender\": \"Satoshi\"\n",
      "            }\n",
      "        ]\n",
      "    },\n",
      "    {\n",
      "        \"index\": 3,\n",
      "        \"previous_hash\": \"f01550990ab770e7491f3bb92764cb75f7129ffdf308eae8bd88389d8a1c9e02\",\n",
      "        \"proof\": 408523,\n",
      "        \"timestamp\": 1650370327.377447,\n",
      "        \"transactions\": [\n",
      "            {\n",
      "                \"amount\": \"1 BTC\",\n",
      "                \"recipient\": \"Alice\",\n",
      "                \"sender\": \"Mike\"\n",
      "            },\n",
      "            {\n",
      "                \"amount\": \"0.5 BTC\",\n",
      "                \"recipient\": \"Bob\",\n",
      "                \"sender\": \"Alice\"\n",
      "            },\n",
      "            {\n",
      "                \"amount\": \"0.5 BTC\",\n",
      "                \"recipient\": \"Mike\",\n",
      "                \"sender\": \"Bob\"\n",
      "            }\n",
      "        ]\n",
      "    }\n",
      "]\n"
     ]
    }
   ],
   "source": [
    "print(\"Blockchain:\")\n",
    "print(json.dumps(blockchain.chain, indent=4, sort_keys=True))"
   ]
  },
  {
   "cell_type": "code",
   "execution_count": null,
   "id": "57a3d35e-b92f-4dcd-8fdc-1419a9b6d2f9",
   "metadata": {},
   "outputs": [],
   "source": []
  }
 ],
 "metadata": {
  "kernelspec": {
   "display_name": "Python 3 (ipykernel)",
   "language": "python",
   "name": "python3"
  },
  "language_info": {
   "codemirror_mode": {
    "name": "ipython",
    "version": 3
   },
   "file_extension": ".py",
   "mimetype": "text/x-python",
   "name": "python",
   "nbconvert_exporter": "python",
   "pygments_lexer": "ipython3",
   "version": "3.9.12"
  }
 },
 "nbformat": 4,
 "nbformat_minor": 5
}
